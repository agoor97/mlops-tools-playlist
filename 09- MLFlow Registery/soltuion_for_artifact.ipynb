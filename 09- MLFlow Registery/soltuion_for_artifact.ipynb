{
 "cells": [
  {
   "cell_type": "code",
   "execution_count": 1,
   "metadata": {},
   "outputs": [
    {
     "name": "stdout",
     "output_type": "stream",
     "text": [
      "Updated meta.yaml for run ID: fbca1767dd4a4b6a8710ad04caf66adb\n",
      "Updated meta.yaml for run ID: 6c06327d43544807afc0af18fd9314f4\n",
      "Updated meta.yaml for run ID: 045c84bfba1d4973be4b8cf96068c965\n",
      "Updated meta.yaml for run ID: 49515e996ca14e8eb024098536c5ca19\n",
      "Updated meta.yaml for run ID: b84f708f7e5f4a158581e0b6098afb7a\n",
      "Updated meta.yaml for run ID: bf6187254fdb4ee38bc4d53f3d6f5922\n",
      "Updated meta.yaml for run ID: 6428db846484402a812610a67a73f9e2\n",
      "Updated meta.yaml for run ID: 7b28e998b7244706b001362a3b29e69d\n",
      "Updated meta.yaml for run ID: 72832601056b440fb2b7935336247407\n",
      "Updated meta.yaml for run ID: 13b1eb9bfc1e4880ae2c9fb42cd5b79f\n",
      "Updated meta.yaml for run ID: 0f9541ff91bb4f44b0e3a3124597dd55\n",
      "Updated meta.yaml for run ID: c63b9a5e75dc4d498a4ddc94e51c7215\n",
      "Updated meta.yaml for run ID: 780188e815ed4fe290891fb0f4ee19a2\n",
      "Updated meta.yaml for run ID: 8e92c062ac8547109f1081539b059f1b\n",
      "Updated meta.yaml for run ID: e8b41fa88b094fa4a9236ec53e776629\n",
      "Updated meta.yaml for run ID: 5291b07d70b748c88771784af6770154\n",
      "Updated meta.yaml for run ID: 4f80ca4582ad4e1bb02c263c192d5e74\n",
      "Updated meta.yaml for run ID: 1f4e1247f0594619afb5e5cae244c78d\n",
      "Updated meta.yaml for run ID: 76196e063d264d05ab7b85e84680192d\n",
      "Updated meta.yaml for run ID: 07f1856a30c542c595d4eae99824632e\n",
      "Updated meta.yaml for run ID: 66a31dc925cc4fe6a37c81039ef7bdf7\n",
      "Updated meta.yaml for run ID: a9879b228e25470b8f2a6335cef07d33\n",
      "Updated meta.yaml for run ID: fa22803db81f48f3b8f617e3ed342e78\n",
      "Updated meta.yaml for run ID: 8dfb27f5554f431bb666f3ad7434e6b7\n",
      "Updated meta.yaml for run ID: 90690b22bfa5488382ae75b6c510f0d9\n",
      "Updated meta.yaml for run ID: d772b40eaf7f47de97d2e85ddc991499\n",
      "Updated meta.yaml for run ID: 3d1e6d9d8b624e7aa8b6ba1b9704ef28\n",
      "Updated meta.yaml for run ID: 6a01106a426244999df6880c8f9b581c\n",
      "Updated meta.yaml for run ID: 91238f033760437e88b558cf526966aa\n",
      "Updated meta.yaml for run ID: ef63ea1b86404cbe93e177f5768a5daa\n",
      "Updated meta.yaml for run ID: 6959beb3ba794d80af6a922415748710\n",
      "Updated meta.yaml for run ID: d27c5a45c98848cb9bf5de16fc426bda\n",
      "Updated meta.yaml for run ID: dbcda6858c96464f9d29530312f18227\n"
     ]
    }
   ],
   "source": [
    "import mlflow\n",
    "import yaml\n",
    "import os\n",
    "\n",
    "experiment_id = \"570103149005920253\"  \n",
    "runs = mlflow.search_runs(experiment_ids=[experiment_id])\n",
    "\n",
    "# Specify the old and new folder names\n",
    "old_folder_name = '08-%20MLFlow%20Models'\n",
    "new_folder_name = '09-%20MLFlow%20Registery'\n",
    "\n",
    "exp_path = os.path.join(os.getcwd(), 'mlruns', experiment_id)\n",
    "\n",
    "for run_id in runs['run_id']:\n",
    "    yaml_path = os.path.join(exp_path, run_id, 'meta.yaml')\n",
    "    if os.path.exists(yaml_path):  # Check if meta.yaml exists\n",
    "        with open(yaml_path, 'r') as f:\n",
    "            data = yaml.safe_load(f)\n",
    "        if data is not None:  # Check if data is not None\n",
    "            # Modify the artifact_uri\n",
    "            data['artifact_uri'] = data.get('artifact_uri', '').replace(old_folder_name, new_folder_name)\n",
    "            # Write back to the YAML file\n",
    "            with open(yaml_path, 'w') as f:\n",
    "                yaml.safe_dump(data, f)\n",
    "            print(f\"Updated meta.yaml for run ID: {run_id}\")\n",
    "        else:\n",
    "            print(f\"Error: No data loaded from {yaml_path} for run ID: {run_id}\")\n",
    "    else:\n",
    "        print(f\"Error: {yaml_path} does not exist for run ID: {run_id}\")\n"
   ]
  },
  {
   "cell_type": "code",
   "execution_count": null,
   "metadata": {},
   "outputs": [],
   "source": []
  }
 ],
 "metadata": {
  "kernelspec": {
   "display_name": "work",
   "language": "python",
   "name": "python3"
  },
  "language_info": {
   "codemirror_mode": {
    "name": "ipython",
    "version": 3
   },
   "file_extension": ".py",
   "mimetype": "text/x-python",
   "name": "python",
   "nbconvert_exporter": "python",
   "pygments_lexer": "ipython3",
   "version": "3.10.9"
  }
 },
 "nbformat": 4,
 "nbformat_minor": 2
}
