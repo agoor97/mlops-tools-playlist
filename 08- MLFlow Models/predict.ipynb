{
 "cells": [
  {
   "cell_type": "code",
   "execution_count": 1,
   "metadata": {},
   "outputs": [],
   "source": [
    "import mlflow\n",
    "import pandas as pd\n",
    "import numpy as np"
   ]
  },
  {
   "cell_type": "code",
   "execution_count": 2,
   "metadata": {},
   "outputs": [
    {
     "data": {
      "text/plain": [
       "array([[-0.75418301,  0.57801436,  0.11375998, -0.14673041,  0.        ,\n",
       "         0.        ,  0.        ,  0.        ,  2.        ,  0.        ,\n",
       "         2.        ]])"
      ]
     },
     "execution_count": 2,
     "metadata": {},
     "output_type": "execute_result"
    }
   ],
   "source": [
    "data = [[-0.7541830079917924,0.5780143566720919,0.11375998165198585,-0.14673040749854463,0.0,0.0,0.0,0.0,2.0,0.0,2.0]]\n",
    "data =  np.array(data)\n",
    "data"
   ]
  },
  {
   "cell_type": "code",
   "execution_count": 3,
   "metadata": {},
   "outputs": [
    {
     "data": {
      "text/plain": [
       "array([[-0.75418301,  0.57801436,  0.11375998, -0.14673041,  0.        ,\n",
       "         0.        ,  0.        ,  0.        ,  2.        ,  0.        ,\n",
       "         2.        ],\n",
       "       [-0.56058841,  0.75390835,  0.70035289,  1.69239275,  0.        ,\n",
       "         1.        ,  0.        ,  1.        ,  9.        ,  1.        ,\n",
       "         1.        ],\n",
       "       [ 0.11699268, -0.32214901,  0.52221809, -0.87214299,  1.        ,\n",
       "         1.        ,  0.        ,  1.        ,  5.        ,  0.        ,\n",
       "         2.        ],\n",
       "       [ 0.69777647, -0.72567052, -1.21707405,  0.07677206,  0.        ,\n",
       "         0.        ,  1.        ,  1.        ,  1.        ,  0.        ,\n",
       "         2.        ],\n",
       "       [-0.46379111,  0.2779599 , -1.21707405,  0.43026095,  0.        ,\n",
       "         0.        ,  0.        ,  1.        ,  6.        ,  1.        ,\n",
       "         2.        ]])"
      ]
     },
     "execution_count": 3,
     "metadata": {},
     "output_type": "execute_result"
    }
   ],
   "source": [
    "data = [[-0.7541830079917924,0.5780143566720919,0.11375998165198585,-0.14673040749854463,0.0,0.0,0.0,0.0,2.0,0.0,2.0],\n",
    "        [-0.5605884106597949,0.753908347743766,0.7003528882054108,1.6923927520037099,0.0,1.0,0.0,1.0,9.0,1.0,1.0],\n",
    "        [0.11699268000219652,-0.3221490094005933,0.5222180917013974,-0.8721429873346316,1.0,1.0,0.0,1.0,5.0,0.0,2.0],\n",
    "        [0.6977764719981892,-0.7256705183297281,-1.2170740485175422,0.07677206232885857,0.0,0.0,1.0,1.0,1.0,0.0,2.0],\n",
    "        [-0.4637911119937961,0.2779599013145302,-1.2170740485175422,0.4302609530322328,0.0,0.0,0.0,1.0,6.0,1.0,2.0]]\n",
    "\n",
    "\n",
    "data = np.array(data)\n",
    "\n",
    "data"
   ]
  },
  {
   "cell_type": "code",
   "execution_count": 4,
   "metadata": {},
   "outputs": [
    {
     "data": {
      "text/plain": [
       "array([0, 0, 0, 1, 0], dtype=int64)"
      ]
     },
     "execution_count": 4,
     "metadata": {},
     "output_type": "execute_result"
    }
   ],
   "source": [
    "# Logged model\n",
    "logged_model = 'runs:/dbcda6858c96464f9d29530312f18227/RandomForestClassifier/without-imbalance'\n",
    "\n",
    "# Load model as a PyFuncModel.\n",
    "loaded_model = mlflow.pyfunc.load_model(logged_model)\n",
    "\n",
    "# Predict on a Pandas DataFrame.\n",
    "loaded_model.predict(pd.DataFrame(data))"
   ]
  },
  {
   "cell_type": "markdown",
   "metadata": {},
   "source": [
    "---"
   ]
  },
  {
   "cell_type": "code",
   "execution_count": null,
   "metadata": {},
   "outputs": [],
   "source": []
  }
 ],
 "metadata": {
  "kernelspec": {
   "display_name": "work",
   "language": "python",
   "name": "python3"
  },
  "language_info": {
   "codemirror_mode": {
    "name": "ipython",
    "version": 3
   },
   "file_extension": ".py",
   "mimetype": "text/x-python",
   "name": "python",
   "nbconvert_exporter": "python",
   "pygments_lexer": "ipython3",
   "version": "3.10.9"
  }
 },
 "nbformat": 4,
 "nbformat_minor": 2
}
